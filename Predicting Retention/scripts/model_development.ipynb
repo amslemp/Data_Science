{
 "cells": [
  {
   "cell_type": "code",
   "execution_count": 28,
   "id": "de9e514e-995a-4eb9-929a-73920268d897",
   "metadata": {},
   "outputs": [],
   "source": [
    "import pandas as pd\n",
    "import numpy as np\n",
    "\n",
    "from pathlib import Path\n",
    "import os\n",
    "\n",
    "import warnings\n",
    "warnings.filterwarnings('ignore')\n",
    "\n",
    "DATA_PATH = Path.cwd() / 'data/processed'\n",
    "\n",
    "data_name = 'FA19 - FA23 Demographic Cleaned Dataset.csv'"
   ]
  },
  {
   "cell_type": "code",
   "execution_count": null,
   "id": "ced81c2e-d444-47c5-a912-53aa5e27d574",
   "metadata": {},
   "outputs": [],
   "source": [
    "# load data\n",
    "enrolled_gpas_online_fafsa_hs = pd.read_csv(f'{DATA_PATH}/{data_name}')\n",
    "\n",
    "enrolled_gpas_xgb = enrolled_gpas_online_fafsa_hs[['enrolled', 'stype', 'gender', 'ethn_desc', 'resd', 'fully_online',\n",
    "                                       'acd_std_desc', 'age', 'term_att_crhr', 'term_earn_crhr', 'term_gpa',\n",
    "                                       'inst_gpa', 'inst_earned', 'no_pell', 'pell', 'subsidized', 'unsubsidized', \n",
    "                                       'summer_plus', 'kansas_promise', 'all_fafsa', 'hs_matriculation']]\n"
   ]
  },
  {
   "cell_type": "code",
   "execution_count": 1,
   "id": "c803a60b-f45b-4d8a-a44c-7864f982ab3c",
   "metadata": {},
   "outputs": [
    {
     "name": "stdout",
     "output_type": "stream",
     "text": [
      "Overwriting data_preparation.py\n"
     ]
    }
   ],
   "source": [
    "%%writefile data_preparation.py\n",
    "import pandas as pd\n",
    "import numpy as np\n",
    "\n",
    "def load_and_prepare_data(data_path):\n",
    "    \n",
    "    \"\"\"\n",
    "    Returns dataframe ready for XGBoost model.\n",
    "\n",
    "    Parameters:\n",
    "        data_path (str): Path to cleaned dataframe from data preparation (enrolled_gpas_online_fafsa_hs).\n",
    "\n",
    "    Returns:\n",
    "        pd.Dataframe: Modifed dataframe set up for XGBoost model.\n",
    "    \"\"\"\n",
    "\n",
    "    # Load data\n",
    "    df = pd.read_csv(data_path)\n",
    "\n",
    "    df = df[['enrolled', 'stype', 'gender', 'ethn_desc', 'resd', 'fully_online',\n",
    "             'acd_std_desc', 'age', 'term_att_crhr', 'term_earn_crhr', 'term_gpa',\n",
    "             'inst_gpa', 'inst_earned', 'no_pell', 'pell', 'subsidized', 'unsubsidized', \n",
    "             'summer_plus', 'kansas_promise', 'all_fafsa', 'hs_matriculation']]\n",
    "\n",
    "    # Filter and encode data\n",
    "    df['enrolled'] = [1 if i == 'Enrolled' else 0 for i in df['enrolled']]\n",
    "    df = df[df['resd'] != 'Z']\n",
    "    df['hs_matriculation'] = df['hs_matriculation'].fillna('Not From HS')\n",
    "    df = df[(df['age'] <= 60) & (df['age'] >= 10)]\n",
    "    df = df[df['ethn_desc'] != 'DO NOT USE - Hispanic']\n",
    "\n",
    "    return df"
   ]
  },
  {
   "cell_type": "code",
   "execution_count": 2,
   "id": "734aee22-f995-4e7b-91d1-aadc47f5f242",
   "metadata": {},
   "outputs": [
    {
     "name": "stdout",
     "output_type": "stream",
     "text": [
      "Overwriting model_training.py\n"
     ]
    }
   ],
   "source": [
    "%%writefile model_training.py\n",
    "import xgboost as xgb\n",
    "from sklearn.model_selection import train_test_split, GridSearchCV\n",
    "from sklearn.preprocessing import LabelEncoder\n",
    "from sklearn.metrics import accuracy_score, classification_report\n",
    "\n",
    "from data_preparation import load_and_prepare_data\n",
    "\n",
    "def train_xgboost_model(prepped_xgb, response, params):\n",
    "    \"\"\"\n",
    "    Parameters:\n",
    "        prepped_xgb (pd.DataFrame): Dataframe prepped for XGBoost.\n",
    "        response (str): String of response variable name.\n",
    "        params (dict): Parameters for GridSearch.\n",
    "        \n",
    "    Returns:\n",
    "        XGBoost Model: Returns best xgboost model\n",
    "        grid_search.best_params_: Returns ideal parameters for model\n",
    "\n",
    "    \"\"\"\n",
    "    # Split data\n",
    "    X = prepped_xgb.drop(response, axis = 1)\n",
    "    y = prepped_xgb[response]\n",
    "    X_train, X_test, y_train, y_test = train_test_split(X, y, test_size = 0.2, random_state = 101)\n",
    "\n",
    "    # Encode categorical vars\n",
    "    le = LabelEncoder()\n",
    "    for col in X_train.columns:\n",
    "        if X_train[col].dtype == 'object':\n",
    "            X_train[col] = le.fit_transform(X_train[col].astype(str))\n",
    "            X_test[col] = le.transform(X_test[col].astype(str))\n",
    "\n",
    "    # Initialize and tune model\n",
    "    xgb_clf = xgb.XGBClassifier(objective = 'binary:logistic', seed = 101)\n",
    "    grid_search = GridSearchCV(\n",
    "        xgb_clf, param_grid = params, cv = 5, n_jobs = -1, scoring = 'accuracy'\n",
    "    )\n",
    "    grid_search.fit(X_train, y_train)\n",
    "\n",
    "    # Evaluate model\n",
    "    best_model = grid_search.best_estimator_\n",
    "    y_pred = best_model.predict(X_test)\n",
    "    print('Best Parameters:', grid_search.best_params_)\n",
    "    print('Accuracy:', accuracy_score(y_test, y_pred))\n",
    "    print('Classification Report:\\n', classification_report(y_test, y_pred))\n",
    "\n",
    "    return best_model, grid_search.best_params_\n",
    "    "
   ]
  },
  {
   "cell_type": "code",
   "execution_count": null,
   "id": "256b297e-0c85-454a-ab1c-f8132b0d74c2",
   "metadata": {},
   "outputs": [],
   "source": [
    "# Run function to make sure it is operating appropriately\n",
    "train_xgboost_model(prepped_xgb, \n",
    "                    response = 'enrolled',\n",
    "                    params = {\n",
    "                        'max_depth': [3, 4, 5],\n",
    "                        'learning_rate': [0.1, 0.01, 0.001],\n",
    "                        'n_estimators': [100, 500, 1000],\n",
    "                        'colsample_bytree': [0.7, 0.8, 0.9],\n",
    "                        'subsample': [0.7, 0.8, 0.9]\n",
    "                    })"
   ]
  },
  {
   "cell_type": "code",
   "execution_count": 3,
   "id": "a449a166-f7c4-4396-b2b2-d97c0ef86386",
   "metadata": {},
   "outputs": [
    {
     "name": "stdout",
     "output_type": "stream",
     "text": [
      "Writing run_training.py\n"
     ]
    }
   ],
   "source": [
    "%%writefile run_training.py\n",
    "\n",
    "from pathlib import Path\n",
    "import joblib\n",
    "from data_preparation import load_and_prepare_data\n",
    "from model_training import train_xgboost_model\n",
    "\n",
    "if __name__ == \"__main__\":\n",
    "    # Paths\n",
    "    DATA_PATH = f'{Path.cwd()}/data/processed/FA19 - FA23 Demographic Cleaned Dataset.csv'\n",
    "    MODEL_PATH = Path.cwd()/'models/xgb_retention_model.pkl'\n",
    "\n",
    "    # load and prepare data\n",
    "    data = load_and_prepare_data(DATA_PATH)\n",
    "\n",
    "    # Define model params\n",
    "    params = {\n",
    "                        'max_depth': [3, 4, 5],\n",
    "                        'learning_rate': [0.1, 0.01, 0.001],\n",
    "                        'n_estimators': [100, 500, 1000],\n",
    "                        'colsample_bytree': [0.7, 0.8, 0.9],\n",
    "                        'subsample': [0.7, 0.8, 0.9]\n",
    "                    }\n",
    "\n",
    "    # Train model\n",
    "    best_model, best_params = train_xgboost_model(data, response = 'enrolled', params = params)\n",
    "\n",
    "    # Save trained model\n",
    "    MODEL_PATH.parent.mkdir(parents = True, exist_ok = True)\n",
    "    joblib.dump(best_model, MODEL_PATH)\n",
    "    "
   ]
  },
  {
   "cell_type": "code",
   "execution_count": 4,
   "id": "e313a66d-de25-4f28-ac61-33ec78d25788",
   "metadata": {},
   "outputs": [
    {
     "name": "stdout",
     "output_type": "stream",
     "text": [
      "Best Parameters: {'colsample_bytree': 0.8, 'learning_rate': 0.1, 'max_depth': 4, 'n_estimators': 500, 'subsample': 0.9}\n",
      "Accuracy: 0.7506949270326616\n",
      "Classification Report:\n",
      "               precision    recall  f1-score   support\n",
      "\n",
      "           0       0.76      0.85      0.80      3459\n",
      "           1       0.73      0.60      0.66      2297\n",
      "\n",
      "    accuracy                           0.75      5756\n",
      "   macro avg       0.74      0.73      0.73      5756\n",
      "weighted avg       0.75      0.75      0.75      5756\n",
      "\n"
     ]
    }
   ],
   "source": [
    "%run run_training.py"
   ]
  },
  {
   "cell_type": "code",
   "execution_count": 31,
   "id": "26056505-4e7b-44fd-8a62-67b48b9bc650",
   "metadata": {},
   "outputs": [
    {
     "name": "stdout",
     "output_type": "stream",
     "text": [
      "Writing prediction.py\n"
     ]
    }
   ],
   "source": [
    "%%writefile prediction.py\n",
    "import pandas as pd\n",
    "from pathlib import Path\n",
    "import joblib\n",
    "from sklearn.preprocessing import LabelEncoder\n",
    "\n",
    "def preprocess_data(input_data, model_features, categorical_features):\n",
    "    \"\"\"\n",
    "    Preprocesses new input data for the trained model.\n",
    "\n",
    "    Parameteres:\n",
    "        input_data (pd.DataFrame): New data to run predictions on.\n",
    "        model_features (list): The list of features used during training.\n",
    "        categorical_features (list): The list of categorical features that need encoding.\n",
    "\n",
    "    Returns:\n",
    "        Pd.DataFrame: Preprocessed data ready for prediction.\n",
    "    \"\"\"\n",
    "    # Select only the features used for training\n",
    "    input_data = input_data[model_features]\n",
    "\n",
    "    # Encode categorical variables\n",
    "    le = LabelEncoder()\n",
    "    for col in categorical_features:\n",
    "        if col in input_data.columns:\n",
    "            input_data[col] = le.fit_transform(input_data[col].astype(str))\n",
    "\n",
    "    return input_data\n",
    "\n",
    "def load_model(model_path):\n",
    "    \"\"\"\n",
    "    Loads the trained model from a pickle file.\n",
    "\n",
    "    Parameters:\n",
    "        model_path (str): Path to pickle file.\n",
    "\n",
    "    Returns:\n",
    "        Trained model\n",
    "\n",
    "    \"\"\"\n",
    "    return joblib.load(model_path)\n",
    "\n",
    "def predict(model, preprocessed_data):\n",
    "    \"\"\"\n",
    "    Uses the trained model to make predictions on the new data.\n",
    "\n",
    "    Parameters:\n",
    "        model: The trained model.\n",
    "        preprocessed_data (pd.DataFrame): Preprocessed data ready for prediction.\n",
    "\n",
    "    Returns:\n",
    "        np.ndarray: Predictions made by the model.\n",
    "\n",
    "    \"\"\"\n",
    "    return model.predict(preprocessed_data)\n",
    "\n",
    "if __name__ == \"__main__\":\n",
    "    MODEL_PATH = Path.cwd() / 'models/xgb_retention_model.pkl'\n",
    "    INPUT_DATA_PATH = Path.cwd() / 'data/new_data/new_cleaned_data.csv'\n",
    "    OUTPUT_PATH = Path.cwd() / 'data/predictions/predictions.csv'\n",
    "\n",
    "    # Load the model\n",
    "    model = load_model(MODEL_PATH)\n",
    "\n",
    "    # Load new data\n",
    "    new_data = pd.read_csv(INPUT_DATA_PATH)\n",
    "\n",
    "    # Define features\n",
    "    model_features = ['stype', 'gender', 'ethn_desc', 'resd', 'fully_online', 'acd_std_desc', 'age', \n",
    "                      'term_att_crhr', 'term_earn_crhr', 'term_gpa', 'inst_gpa', 'inst_earned', 'no_pell',\n",
    "                      'pell', 'subsidized', 'unsubsidized', 'summer_plus', 'kansas_promise', 'all_fafsa', \n",
    "                      'hs_matriculation']\n",
    "\n",
    "    # Isolate categorical features\n",
    "    cat_features = ['stype', 'gender', 'ethn_desc', 'resd', 'fully_online', 'acd_std_desc', 'hs_matriculation']\n",
    "\n",
    "    # Preporcess new data\n",
    "    preprocessed_data = preprocess_data(new_data, model_features, cat_features)\n",
    "\n",
    "    # Generate predictions\n",
    "    predictions = predict(model, preprocessed_data)\n",
    "\n",
    "    # Save predictions\n",
    "    output = new_data.copy()\n",
    "    output['predicted_enrollment'] = predictions\n",
    "    OUTPUT_PATH.parent.mkdir(parents = True, exist_ok = True)\n",
    "    output.to_csv(OUTPUT_PATH, index = False)\n"
   ]
  },
  {
   "cell_type": "code",
   "execution_count": 30,
   "id": "f82f4e5b-e10f-4ed8-9b14-f1e541efcf69",
   "metadata": {},
   "outputs": [
    {
     "name": "stdout",
     "output_type": "stream",
     "text": [
      " Accuracy: 0.8018443804034582\n",
      " Specificity: 0.8898061048185832\n",
      " Confusion Matrix: [[4635  574]\n",
      " [1145 2321]]\n"
     ]
    },
    {
     "data": {
      "image/png": "[encoded data removed]",
      "text/plain": [
       "<Figure size 640x480 with 2 Axes>"
      ]
     },
     "metadata": {},
     "output_type": "display_data"
    }
   ],
   "source": [
    "from sklearn.metrics import accuracy_score, confusion_matrix\n",
    "import matplotlib.pyplot as plt\n",
    "import seaborn as sns\n",
    "\n",
    "# calc accuracy\n",
    "output['enrolled_num'] = [1 if i == 'Enrolled' else 0 for i in output['enrolled']]\n",
    "acc = accuracy_score(output['enrolled_num'], output['predicted_enrollment'])\n",
    "cm = confusion_matrix(output['enrolled_num'], output['predicted_enrollment'])\n",
    "\n",
    "TN, FP, FN, TP = cm.ravel()\n",
    "\n",
    "# Calculate specificity\n",
    "specificity = TN/(TN + FP)\n",
    "print(f' Accuracy: {acc}\\n Specificity: {specificity}\\n Confusion Matrix: {cm}', sep = \"\")\n",
    "\n",
    "# visualize cm\n",
    "sns.heatmap(cm, annot = True, fmt = 'd', cmap = 'Blues')\n",
    "plt.xlabel('Predicted Enrollment')\n",
    "plt.ylabel('Actual Enrollment')\n",
    "plt.title('Confusion Matrix')\n",
    "plt.show()"
   ]
  },
  {
   "cell_type": "code",
   "execution_count": null,
   "id": "b45817f8-5b02-464f-8e20-be5318b6b068",
   "metadata": {},
   "outputs": [],
   "source": []
  }
 ],
 "metadata": {
  "kernelspec": {
   "display_name": "Python 3 (ipykernel)",
   "language": "python",
   "name": "python3"
  },
  "language_info": {
   "codemirror_mode": {
    "name": "ipython",
    "version": 3
   },
   "file_extension": ".py",
   "mimetype": "text/x-python",
   "name": "python",
   "nbconvert_exporter": "python",
   "pygments_lexer": "ipython3",
   "version": "3.10.14"
  }
 },
 "nbformat": 4,
 "nbformat_minor": 5
}
