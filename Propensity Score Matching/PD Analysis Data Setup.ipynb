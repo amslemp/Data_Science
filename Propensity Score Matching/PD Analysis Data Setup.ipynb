{
 "cells": [
  {
   "cell_type": "markdown",
   "id": "3d93b259",
   "metadata": {},
   "source": [
    "# PD 12x Course Analysis\n",
    "\n",
    "I'm hoping that a LR or CV-LLR will work sufficiently well for this analysis. The first goal will be to simply analyze students who persist from Fall to Spring and Spring to Fall who take the class. Since we are analyzing PD courses as a whole, it makes sense to compare that to other subject areas as a whole, at least in the first run. Let's see if that pulls anything insightful. "
   ]
  },
  {
   "cell_type": "code",
   "execution_count": null,
   "id": "13c84f13",
   "metadata": {},
   "outputs": [],
   "source": [
    "import pandas as pd\n",
    "import numpy as np\n",
    "import os\n",
    "from pathlib import Path"
   ]
  },
  {
   "cell_type": "code",
   "execution_count": null,
   "id": "db95067e",
   "metadata": {},
   "outputs": [],
   "source": [
    "%%html\n",
    "<style>\n",
    "table {float:left}\n",
    "</style>"
   ]
  },
  {
   "cell_type": "markdown",
   "id": "033108ac",
   "metadata": {},
   "source": [
    "# CrHr and Student Enrollment\n",
    "\n",
    "I'm using the 20th Day credit hour enrollment parquet file."
   ]
  },
  {
   "cell_type": "code",
   "execution_count": null,
   "id": "6a403239",
   "metadata": {},
   "outputs": [],
   "source": [
    "# File path\n",
    "crhr_fp = Path(os.getcwd()).parent / '20th_day_data/Files'\n",
    "\n",
    "# crhr parquet file\n",
    "crhr = (pd.read_parquet(crhr_fp / '20th_D CrHr Enrollment 201280 - 202410.parquet')\n",
    "          .loc[lambda df: df['term'].isin([201980, 202010, 202080, 202110, 202180, \n",
    "                                           202210, 202280, 202310, 202380, 202410])]\n",
    "          .assign(term_id = lambda df: df['term'].astype(str) + df['id'].astype(str))\n",
    "          .reset_index(drop = True)\n",
    "       )[['term', 'id', 'term_id', 'purchase rate', 'first semester (join date)',\n",
    "       'age by semester', 'age', 'age_range', 'totcr', 'status', 'stype',\n",
    "       'resd_desc', 'degree', 'majr_desc1', 'gender', 'mrtl', 'ethn_desc',\n",
    "       'cnty_desc1', 'prevhrs', 'pt', 'loc', 'crn', 'sub', 'crs', 'title',\n",
    "       'cr', 're', 'div', 'crs cd']]"
   ]
  },
  {
   "cell_type": "code",
   "execution_count": null,
   "id": "8a98d103",
   "metadata": {},
   "outputs": [],
   "source": [
    "# Isolate the students who were in a PD 12x course\n",
    "mask = crhr['sub'] == 'PD'\n",
    "mask2 = crhr['crs'].isin(['124', '123', '121', '127', '125', '129', '122', '126'])\n",
    "pdx_students = crhr[mask & mask2][['term_id', 'term', 'sub', 'crs']].reset_index(drop = True)\n",
    "\n",
    "# Isolate the ids of students who were in a PD 12x course\n",
    "pdx_ids = list(pdx_students['term_id'])\n",
    "\n",
    "# Create column that makes binary response variable, students with PD 12x class and those without\n",
    "crhr['pdx'] = ['PD 12x' if ids in pdx_ids else 'Not PD 12x' for ids in crhr['term_id']]\n"
   ]
  },
  {
   "cell_type": "code",
   "execution_count": null,
   "id": "1833c3fa",
   "metadata": {},
   "outputs": [],
   "source": [
    "# Sanity check. Is the response variable correctly coded\n",
    "(crhr[(crhr['sub'] == 'PD') & (crhr['crs'].isin(['124', '123', '121', '127', '125', '129', '122', '126']))]\n",
    " [['sub', 'crs', 'pdx']].head(15)\n",
    ")\n"
   ]
  },
  {
   "cell_type": "markdown",
   "id": "1e5f79ca",
   "metadata": {},
   "source": [
    "## Persistence And Retention Rates\n",
    "\n",
    "Create two different data sets. One examines persistence rates, the other, retetion rates. Here we are defining *persistence* as semester to semester and *retention* as Fall to Fall. This means we are examining the proportion of students from the previous semester enrolled in the current semester. \n",
    "\n",
    "$$\\text{Persistence} = \\frac{S_{t+1}}{S_t}$$\n",
    "\n",
    "where $S_t$ represents *all students* enrolled in the previous semester and $S_{t+1}$ represents all the students from the previous semester enrolled in the current semester. For instance, if the current semester is Fall, then the persistence measures the number of students enrolled in Fall that were also enrolled in the Spring semseter (i.e. the previous semester). This ends up being a LEFT JOIN of previous semester to current semester.\n",
    "\n",
    "$$\\text{Retention} = \\frac{F_{t+1}}{F_t}$$\n",
    "\n",
    "where $F_t$ represents *all students* enrolled in the previous Fall and $F_{t+1}$ represents all the students from the previous Fall in the current Fall semester. "
   ]
  },
  {
   "cell_type": "code",
   "execution_count": null,
   "id": "f6c1fb90",
   "metadata": {},
   "outputs": [],
   "source": [
    "def persistence_retention(df, prev_term, curr_term):\n",
    "    \"\"\"\n",
    "    df (pd.DataFrame): This is the 20th-Day dataframe from IR that has been modified by me (Aaron). The modifications\n",
    "                       are not used in the code for persistence and retention. That is a basic comparison of the presence\n",
    "                       of IDs from one semester to the next. \n",
    "    prev_term (int): Six digit integer of the previous term. Since this can do both retention and persistence,\n",
    "                     the previous term will be in relation to what you are studying. Retention is Fall to Fall. \n",
    "                     Persistence is the previous Fall or Spring semester.\n",
    "    curr_term (int): Six digit integer of the current term. For persistence, the current term is the Spring or Fall \n",
    "                     immediately following the previous term. For retention, the current term is the Fall term immediately\n",
    "                     following the previous Fall term.\n",
    "    returns: Concatenated semesters with all columns and data. (or)\n",
    "             Concatenated calculation of the percent who persisted from one term to the next and those that did not. \n",
    "             \n",
    "    \"\"\"\n",
    "    # previous\n",
    "    previous = (df[df['term'] == prev_term]\n",
    "                   .groupby('id').first()\n",
    "                   .reset_index()\n",
    "               )\n",
    "\n",
    "    # current\n",
    "    current = (df[df['term'] == curr_term]\n",
    "                   .groupby('id').first()\n",
    "                   .reset_index()\n",
    "              )\n",
    "\n",
    "    # merge previous with current, prioritizing previous\n",
    "    merged_sems = (previous.merge(current[['id', 'term']], how = 'left', on = 'id')\n",
    "                       .reset_index(drop = True)\n",
    "                       .rename(columns = {'term_x':'term',\n",
    "                                          'term_y':'enrolled'})\n",
    "                       .assign(persistence = lambda x: [f'{prev_term} Persisted' if i == float(str(curr_term) + '.0') else f'{prev_term} Not Persisted' for i in x['enrolled']])\n",
    "                       .drop('enrolled', axis = 1)\n",
    "                  )\n",
    "\n",
    "    prop_persisted = merged_sems['persistence'].value_counts(normalize = True)\n",
    "    \n",
    "    return merged_sems, prop_persisted\n"
   ]
  },
  {
   "cell_type": "markdown",
   "id": "ba558e46",
   "metadata": {},
   "source": [
    "### Persistence\n",
    "\n",
    "The loop below calculates persistence using the parameterized program from above. We start at position one in the *terms* list, then cycle through to the end. The previous term is $t-1$ and the current term is $t$. "
   ]
  },
  {
   "cell_type": "code",
   "execution_count": null,
   "id": "e4a06ee6",
   "metadata": {},
   "outputs": [],
   "source": [
    "# Loop through terms\n",
    "terms = sorted(crhr['term'].unique())\n",
    "\n",
    "persistence_perc = []\n",
    "persistence = []\n",
    "\n",
    "for i in range(1, len(terms)):\n",
    "    previous_term = terms[i-1]\n",
    "    current_term = terms[i]\n",
    "    temp_persistence_perc = persistence_retention(crhr, previous_term, current_term)[1]\n",
    "    temp_persistence = persistence_retention(crhr, previous_term, current_term)[0]\n",
    "    persistence_perc.append(temp_persistence_perc)\n",
    "    persistence.append(temp_persistence)"
   ]
  },
  {
   "cell_type": "code",
   "execution_count": null,
   "id": "4b9329c9",
   "metadata": {},
   "outputs": [],
   "source": [
    "# View percent persisted for each semester. Remember, these are looking forward. So 201980 is showing\n",
    "# students who persisted from 201980 to 202010. Therefore, we see 64.18% of students from 201980 persisted to \n",
    "# 202010, 35.82% did not.\n",
    "percent_persisted = (pd.concat(persistence_perc)\n",
    "                       .reset_index())\n",
    "\n",
    "percent_persisted[['term', 'persisted']] = percent_persisted['index'].str.extract(r'(\\d{6})\\s*(.*)')\n",
    "\n",
    "percent_persisted = percent_persisted.drop('index', axis = 1)\n",
    "\n",
    "# Pivot table to view persisted/not persisted\n",
    "percent_persisted.pivot_table(index = 'term', columns = 'persisted', values = 'persistence')"
   ]
  },
  {
   "cell_type": "code",
   "execution_count": null,
   "id": "66053eb7",
   "metadata": {},
   "outputs": [],
   "source": [
    "# Dataframe of all persistence for each of the semesters considered\n",
    "all_persistence = (pd.concat(persistence)\n",
    "                     .reset_index(drop = True)\n",
    "                  )\n",
    "\n",
    "# Split the term away from the \"Persisted/Not Persisted\"\n",
    "all_persistence[['term_x', 'persistence']] = all_persistence['persistence'].str.extract(r'(\\d{6})\\s*(.*)')\n",
    "\n",
    "# Drop extra term column\n",
    "all_persistence.drop('term_x', axis = 1, inplace = True)\n"
   ]
  },
  {
   "cell_type": "markdown",
   "id": "a266ef06",
   "metadata": {},
   "source": [
    "### Special Side Project\n",
    "\n",
    "I did this for DeAnn due to a report I sent last year that was completely incorrect. I cannot, for the life of me, figure out what I was doing or thinking last year. The below numbers are correct."
   ]
  },
  {
   "cell_type": "code",
   "execution_count": null,
   "id": "8d8e7e50",
   "metadata": {},
   "outputs": [],
   "source": [
    "import warnings\n",
    "warnings.filterwarnings('ignore')\n",
    "\n",
    "# Make stype persistence rate dataframe\n",
    "stype_persistence = (all_persistence\n",
    "                         .groupby(['term', 'stype', 'persistence'])\n",
    "                         .agg({'id':'count'})\n",
    "                         .reset_index()\n",
    "                         .rename(columns = {'id':'count'})\n",
    "                    )\n",
    "\n",
    "# Add in the persistence percentage\n",
    "persistence_percent = []\n",
    "\n",
    "for term in stype_persistence['term'].unique():\n",
    "    temp_term = stype_persistence[stype_persistence['term'] == term]\n",
    "    for stype in temp_term['stype'].unique():\n",
    "        temp_stype = temp_term[temp_term['stype'] == stype]\n",
    "        temp_stype['percent'] = temp_stype['count'] / sum(temp_stype['count'])\n",
    "        persistence_percent.append(temp_stype)"
   ]
  },
  {
   "cell_type": "code",
   "execution_count": null,
   "id": "3d2b4460",
   "metadata": {},
   "outputs": [],
   "source": [
    "# View the persistence percentage for each semester for each student type\n",
    "(pd.concat(persistence_percent)\n",
    "   .pivot_table(index = ['term', 'stype'], columns = 'persistence', values = ['count', 'percent'])\n",
    ")"
   ]
  },
  {
   "cell_type": "markdown",
   "id": "efff4aaa",
   "metadata": {},
   "source": [
    "### End Side Project"
   ]
  },
  {
   "cell_type": "markdown",
   "id": "b24cdf16",
   "metadata": {},
   "source": [
    "### Import GPA Information\n",
    "\n",
    "This data is downloaded directly from Argos. The EOT grades from the IR databased do not give me all the data I have from the Argos dataset. Remember, there are hundreds of students that are total withdrawals by the end of term, which is why some of them do not show up in the grades. We only lose 943 entrees by dropping duplicates. This drops it from 61343 to 60400 and results in only 943 entries dropped. "
   ]
  },
  {
   "cell_type": "code",
   "execution_count": null,
   "id": "4b40b5dc",
   "metadata": {},
   "outputs": [],
   "source": [
    "# Import grades\n",
    "grades = (pd.read_parquet('Files/201980 - 202380 Grades Data From Argos.parquet')\n",
    "            .assign(term_id = lambda df: df['term'].astype(str) + df['id'].astype(str))\n",
    "         )\n",
    "grades"
   ]
  },
  {
   "cell_type": "code",
   "execution_count": null,
   "id": "6c901d27",
   "metadata": {},
   "outputs": [],
   "source": [
    "# Combine 20th-D crhr enrollment with EOT grades (pulled form Argos)\n",
    "crhr_grades = (all_persistence.merge(grades, on = 'term_id', how = 'left', indicator = True)\n",
    "                   .drop(['id_y', 'term_y', 'purchase rate', 'first semester (join date)', \n",
    "                          'age by semester', 'status', 'degree', 'majr_desc1', 'mrtl', 'cnty_desc1',\n",
    "                          'pt', 'loc', 'crn', 'sub', 'crs', 'title', 'cr', 're', 'div',\n",
    "                          'crs cd'], axis = 1)\n",
    "                   .rename(columns = {'term_x':'term',\n",
    "                                      'id_x':'id',\n",
    "                                      '_merge':'df_origination'})\n",
    "                   .query(\"df_origination == 'both'\")\n",
    "                   .reset_index(drop = True)\n",
    "                   .drop('df_origination', axis = 1)\n",
    "              )\n"
   ]
  },
  {
   "cell_type": "code",
   "execution_count": null,
   "id": "c67fb99d",
   "metadata": {},
   "outputs": [],
   "source": [
    "# Select just the unique term_ids\n",
    "crhr_grades = crhr_grades.groupby('term_id').first().reset_index()\n",
    "\n",
    "crhr_grades.to_csv('Crhr_Grades 2019 - 2023.csv')"
   ]
  },
  {
   "cell_type": "code",
   "execution_count": null,
   "id": "d7c90fcd",
   "metadata": {},
   "outputs": [],
   "source": [
    "import matplotlib.pyplot as plt\n",
    "import seaborn as sns\n",
    "\n",
    "# Convert all categories in 'acdstd' to string\n",
    "crhr_grades['acdstd'] = crhr_grades['acdstd'].astype(str)\n",
    "\n",
    "# Create violin plots using seaborn\n",
    "plt.figure(figsize = (6, 4))\n",
    "sns.violinplot(x = 'acdstd', y = 'trmgpa', data = grades)\n",
    "\n",
    "# add titles and labels\n",
    "plt.title('Violin Plots of Term GPA and Academic Standing')\n",
    "plt.xlabel('Academic Standing')\n",
    "plt.ylabel('Term GPA')\n",
    "\n",
    "# show plot\n",
    "plt.show()"
   ]
  },
  {
   "cell_type": "code",
   "execution_count": null,
   "id": "a21b4464",
   "metadata": {},
   "outputs": [],
   "source": []
  }
 ],
 "metadata": {
  "kernelspec": {
   "display_name": "Python 3 (ipykernel)",
   "language": "python",
   "name": "python3"
  },
  "language_info": {
   "codemirror_mode": {
    "name": "ipython",
    "version": 3
   },
   "file_extension": ".py",
   "mimetype": "text/x-python",
   "name": "python",
   "nbconvert_exporter": "python",
   "pygments_lexer": "ipython3",
   "version": "3.10.14"
  }
 },
 "nbformat": 4,
 "nbformat_minor": 5
}
